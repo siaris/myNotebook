{
 "cells": [
  {
   "cell_type": "code",
   "execution_count": null,
   "metadata": {},
   "outputs": [],
   "source": [
    "import pandas as pd\n",
    "import json\n",
    "import requests\n",
    "import calendar\n",
    "import datetime as dt\n",
    "from dateutil.relativedelta import *"
   ]
  },
  {
   "cell_type": "code",
   "execution_count": null,
   "metadata": {},
   "outputs": [],
   "source": [
    "def do_request_transaksi(f,d,so):\n",
    "  url = 'http://sim.rs/simrs/inventori/laporan_inventori/pub_txt_logfar/'\n",
    "  myobj = {'tgl_dari': f,'tgl_sampai': d,'kode_so': so}\n",
    "\n",
    "  x = requests.post(url, data = myobj)\n",
    "\n",
    "  return x.json()\n",
    "\n",
    "def get_stok_akhir(y,m):\n",
    "  url = 'http://sim.rs/devapi/rsp/invsofarmasi/show_stok_so/'\n",
    "  myobj = {'y': y,'m':m}\n",
    "\n",
    "  x = requests.post(url, data = json.dumps(myobj),headers={'Content-Type': 'application/json', 'Accept':'application/json'})\n",
    "  \n",
    "  return x.json()\n",
    "\n",
    "def get_ket_bast(l):\n",
    "  url = 'http://sim.rs/devapi/rsp/invpenerimaanfarmasi/penerimaan_bast_bku/'\n",
    "  myobj = {'po': l}\n",
    "\n",
    "  x = requests.post(url, data = json.dumps(myobj),headers={'Content-Type': 'application/json', 'Accept':'application/json'})\n",
    "  \n",
    "  return x.json()\n",
    "\n",
    "def get_list_simak_date(y,lim_range = 13):\n",
    "    r = []\n",
    "    for i in range(1,lim_range,1):\n",
    "        e = calendar.monthrange(y, i)[1]\n",
    "        m = str(i).zfill(2)\n",
    "        r.append(['01-'+m+'-'+str(y)+' 00:00',str(e)+'-'+m+'-'+str(y)+' 23:59',str(y)[2]+str(y)[3]+m])\n",
    "    return r\n",
    "\n",
    "def komparasiDenganDesc(D1,D2,r=0):\n",
    "    return pd.merge(D1,D2,on=r,how='outer',indicator=True)\n",
    "\n",
    "  "
   ]
  },
  {
   "cell_type": "code",
   "execution_count": 118,
   "metadata": {},
   "outputs": [],
   "source": [
    "R = []\n",
    "mmax = 3\n",
    "\n",
    "for i in range(1,(mmax+1)):\n",
    "    d = (dt.datetime.today()+ relativedelta(months=(-1*i))).strftime('%y%m')\n",
    "    R.append(pd.DataFrame(get_stok_akhir(d[0]+d[1],d[2]+d[3])))\n",
    "\n"
   ]
  },
  {
   "cell_type": "code",
   "execution_count": 119,
   "metadata": {},
   "outputs": [],
   "source": [
    "\n",
    "frst = R[0][['c','e','n']][(R[0]['e'] > 0)&(R[0]['k'] == 0)]\n",
    "newDF = pd.DataFrame()\n",
    "for j in range(1,mmax):\n",
    "    nowDF = R[j][['c','k']][(R[j]['k'] == 0)]\n",
    "    if j > 1 : newDF = pd.merge(newDF,nowDF,how='inner')\n",
    "    else : newDF = nowDF\n",
    "slowDF = pd.merge(frst,newDF,how='inner')"
   ]
  },
  {
   "cell_type": "code",
   "execution_count": 120,
   "metadata": {},
   "outputs": [],
   "source": [
    "slowDF['kode'] = slowDF.iloc[:].astype(str).apply(lambda x: '|'+x['c']+'|' ,axis=1)\n",
    "slowDF.to_csv(\"slowDF.csv\",sep='\\t')"
   ]
  },
  {
   "cell_type": "code",
   "execution_count": null,
   "metadata": {},
   "outputs": [],
   "source": []
  }
 ],
 "metadata": {
  "kernelspec": {
   "display_name": "Python 3.6.5 ('base')",
   "language": "python",
   "name": "python3"
  },
  "language_info": {
   "codemirror_mode": {
    "name": "ipython",
    "version": 3
   },
   "file_extension": ".py",
   "mimetype": "text/x-python",
   "name": "python",
   "nbconvert_exporter": "python",
   "pygments_lexer": "ipython3",
   "version": "3.6.5"
  },
  "vscode": {
   "interpreter": {
    "hash": "ab967c7b563aa7215ccc1c730891baf89f5caa5f60921a2bf50680738a282034"
   }
  }
 },
 "nbformat": 4,
 "nbformat_minor": 2
}
