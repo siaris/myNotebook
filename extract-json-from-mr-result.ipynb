{
 "cells": [
  {
   "cell_type": "code",
   "execution_count": 1,
   "metadata": {},
   "outputs": [
    {
     "name": "stdout",
     "output_type": "stream",
     "text": [
      "Requirement already satisfied: mysql-connector-python in c:\\programdata\\anaconda3\\lib\\site-packages (8.0.29)\n",
      "Requirement already satisfied: protobuf>=3.0.0 in c:\\programdata\\anaconda3\\lib\\site-packages (from mysql-connector-python) (3.19.4)\n"
     ]
    },
    {
     "name": "stderr",
     "output_type": "stream",
     "text": [
      "distributed 1.21.8 requires msgpack, which is not installed.\n",
      "You are using pip version 10.0.1, however version 21.3.1 is available.\n",
      "You should consider upgrading via the 'python -m pip install --upgrade pip' command.\n"
     ]
    }
   ],
   "source": [
    "! pip install mysql-connector-python\n",
    "import mysql.connector\n",
    "import pandas as pd\n",
    "import json"
   ]
  },
  {
   "cell_type": "code",
   "execution_count": 2,
   "metadata": {},
   "outputs": [],
   "source": [
    "con = open('ref_con/db-prima', 'r').read().splitlines()\n",
    "how = input('how to connect(local/public):')\n",
    "\n",
    "mydb = mysql.connector.connect(\n",
    "  host=con[0] if how == 'public' else con[1],\n",
    "  user=con[2],\n",
    "  password=con[3],\n",
    "  database=con[4] \n",
    ")\n",
    "\n",
    "mycursor = mydb.cursor(dictionary=True)"
   ]
  },
  {
   "cell_type": "code",
   "execution_count": 104,
   "metadata": {},
   "outputs": [],
   "source": [
    "def exec_q(qT):\n",
    "  mycursor.execute(qT)\n",
    "  myresult = mycursor.fetchall()\n",
    "  jD = []\n",
    "  for x in myresult:\n",
    "    jD.append(x['json_result'])\n",
    "  JReturn = '['+','.join(jD)+']'\n",
    "  return JReturn\n",
    "\n",
    "def exec_to_result(q):\n",
    "  mycursor.execute(q)\n",
    "  return mycursor.fetchall()\n",
    "\n",
    "def get_erm_result(code,v='',limit=''):\n",
    "    verQ = ' TRUE ' if v=='' else ' versi = \"'+v+'\" '\n",
    "    limQ = '' if limit=='' else ' LIMIT '+limit \n",
    "    return exec_q(\"select json_result from primaprod.mr_result inner join primaprod.mr_form on \\\n",
    "id_form=mr_form.id where kode like '\"+code+\"' AND \"+verQ+limQ)\n",
    "\n",
    "def get_erm_result_from_RM(rm):\n",
    "  #dapatkan barisan DR\n",
    "  rawPKP = exec_to_result(\"select poli_kunjungan_pasien.attr_tambahan from poli_kunjungan_pasien inner join pendaftaran\\\n",
    "    using (no_reg) where pendaftaran.no_rm = '\"+rm+\"' and poli_kunjungan_pasien.status_ok = 1\\\n",
    "      and attr_tambahan like '%\\\"emr\\\":%'\")\n",
    "  return get_attr_emr(rawPKP)\n",
    "\n",
    "def get_erm_result_from_NOREG(nr):\n",
    "  #dapatkan barisan attr\n",
    "  rawPKP = exec_to_result(\"select attr_tambahan from poli_kunjungan_pasien where no_reg = '\"+nr+\"' and status_ok = 1\\\n",
    "     and attr_tambahan like '%\\\"emr\\\":%'\")\n",
    "  return get_attr_emr(rawPKP)\n",
    "\n",
    "def get_erm_result_from_DR(dr):\n",
    "  rawPKP = exec_to_result(\"select attr_tambahan from poli_kunjungan_pasien where id = '\"+dr+\"' and status_ok = 1\\\n",
    "    and attr_tambahan like '%\\\"emr\\\":%'\")\n",
    "  return get_attr_emr(rawPKP)\n",
    "\n",
    "def get_attr_emr(attrs):\n",
    "  EMRid = []\n",
    "  for i in attrs:\n",
    "    attr = json.loads(i['attr_tambahan'])\n",
    "    for j in attr['emr']:\n",
    "      EMRid.append(j)\n",
    "  mycursor.execute('select json_result,kode from primaprod.mr_result inner join primaprod.mr_form on \\\n",
    "id_form=mr_form.id where mr_result.id in (\"'+'\",\"'.join([str(int) for int in EMRid])+'\")')\n",
    "  return parse_code_to_key(mycursor.fetchall()) \n",
    "\n",
    "def parse_code_to_key(dic):\n",
    "  rDic = {}\n",
    "  for i in dic:\n",
    "    jR = json.loads(i['json_result'])\n",
    "    for k in jR:\n",
    "      rDic[i['kode']+'.'+k] = []\n",
    "      rDic[i['kode']+'.'+k].append(jR[k])\n",
    "  return rDic\n"
   ]
  },
  {
   "cell_type": "code",
   "execution_count": 21,
   "metadata": {},
   "outputs": [],
   "source": [
    "DFresult = pd.read_json(get_erm_result('RM-B01','','100'))"
   ]
  },
  {
   "cell_type": "code",
   "execution_count": null,
   "metadata": {},
   "outputs": [],
   "source": [
    "DFresult"
   ]
  },
  {
   "cell_type": "code",
   "execution_count": null,
   "metadata": {},
   "outputs": [],
   "source": [
    "get_erm_result_from_RM('2586113')"
   ]
  },
  {
   "cell_type": "code",
   "execution_count": 108,
   "metadata": {},
   "outputs": [
    {
     "data": {
      "text/html": [
       "<div>\n",
       "<style scoped>\n",
       "    .dataframe tbody tr th:only-of-type {\n",
       "        vertical-align: middle;\n",
       "    }\n",
       "\n",
       "    .dataframe tbody tr th {\n",
       "        vertical-align: top;\n",
       "    }\n",
       "\n",
       "    .dataframe thead th {\n",
       "        text-align: right;\n",
       "    }\n",
       "</style>\n",
       "<table border=\"1\" class=\"dataframe\">\n",
       "  <thead>\n",
       "    <tr style=\"text-align: right;\">\n",
       "      <th></th>\n",
       "      <th>RM-B02.kasus</th>\n",
       "      <th>RM-B02.informasi_dari</th>\n",
       "      <th>RM-B02.cara_masuk</th>\n",
       "      <th>RM-B02.cara_masuk_dengan_bantuan</th>\n",
       "      <th>RM-B02.gangguan_perilaku</th>\n",
       "      <th>RM-B02.sifat_gangguan_perilaku</th>\n",
       "      <th>RM-B02.status_alergi</th>\n",
       "      <th>RM-B02.alergi</th>\n",
       "      <th>RM-B02.orang_terdekat_dengan_pasien</th>\n",
       "      <th>RM-B02.pembuat_keputusan</th>\n",
       "      <th>...</th>\n",
       "      <th>RM-I02.dosis</th>\n",
       "      <th>RM-I02.rute</th>\n",
       "      <th>RM-I02.frekwensi</th>\n",
       "      <th>RM-I02.dosis_terakhir</th>\n",
       "      <th>RM-I02.keterangan</th>\n",
       "      <th>RM-I02.instruksi_dokter_saat_masuk_rumah_sakit</th>\n",
       "      <th>RM-I02.instruksi_dokter_saat_keluar_rumah_sakit</th>\n",
       "      <th>RM-I02.user_ttd_dpjp</th>\n",
       "      <th>RM-I02.user_ttd_apoteker</th>\n",
       "      <th>RM-I02.user_ttd_perawat</th>\n",
       "    </tr>\n",
       "  </thead>\n",
       "  <tbody>\n",
       "    <tr>\n",
       "      <th>0</th>\n",
       "      <td>Non KLL</td>\n",
       "      <td>Auto-anamnesis</td>\n",
       "      <td>Kursi Roda</td>\n",
       "      <td></td>\n",
       "      <td>Tidak Terganggu</td>\n",
       "      <td>Tidak Membahayakan</td>\n",
       "      <td>Tidak</td>\n",
       "      <td></td>\n",
       "      <td>keluarga</td>\n",
       "      <td>keluarga</td>\n",
       "      <td>...</td>\n",
       "      <td>20MG &amp;&amp; -</td>\n",
       "      <td>Oral &amp;&amp; Oral</td>\n",
       "      <td>2X1 &amp;&amp; K/P</td>\n",
       "      <td>17-05-2022 &amp;&amp; 17-05-2022</td>\n",
       "      <td>&amp;&amp;</td>\n",
       "      <td>&amp;&amp;</td>\n",
       "      <td>&amp;&amp;</td>\n",
       "      <td></td>\n",
       "      <td>Usi E</td>\n",
       "      <td></td>\n",
       "    </tr>\n",
       "  </tbody>\n",
       "</table>\n",
       "<p>1 rows × 153 columns</p>\n",
       "</div>"
      ],
      "text/plain": [
       "  RM-B02.kasus RM-B02.informasi_dari RM-B02.cara_masuk  \\\n",
       "0      Non KLL        Auto-anamnesis        Kursi Roda   \n",
       "\n",
       "  RM-B02.cara_masuk_dengan_bantuan RM-B02.gangguan_perilaku  \\\n",
       "0                                           Tidak Terganggu   \n",
       "\n",
       "  RM-B02.sifat_gangguan_perilaku RM-B02.status_alergi RM-B02.alergi  \\\n",
       "0             Tidak Membahayakan                Tidak                 \n",
       "\n",
       "  RM-B02.orang_terdekat_dengan_pasien RM-B02.pembuat_keputusan  \\\n",
       "0                            keluarga                 keluarga   \n",
       "\n",
       "            ...           RM-I02.dosis   RM-I02.rute RM-I02.frekwensi  \\\n",
       "0           ...              20MG && -  Oral && Oral       2X1 && K/P   \n",
       "\n",
       "      RM-I02.dosis_terakhir RM-I02.keterangan  \\\n",
       "0  17-05-2022 && 17-05-2022               &&    \n",
       "\n",
       "  RM-I02.instruksi_dokter_saat_masuk_rumah_sakit  \\\n",
       "0                                            &&    \n",
       "\n",
       "  RM-I02.instruksi_dokter_saat_keluar_rumah_sakit RM-I02.user_ttd_dpjp  \\\n",
       "0                                             &&                         \n",
       "\n",
       "  RM-I02.user_ttd_apoteker RM-I02.user_ttd_perawat  \n",
       "0                    Usi E                          \n",
       "\n",
       "[1 rows x 153 columns]"
      ]
     },
     "execution_count": 108,
     "metadata": {},
     "output_type": "execute_result"
    }
   ],
   "source": [
    "df = pd.DataFrame(get_erm_result_from_NOREG('2205170889'))\n",
    "df"
   ]
  },
  {
   "cell_type": "code",
   "execution_count": null,
   "metadata": {},
   "outputs": [],
   "source": []
  }
 ],
 "metadata": {
  "kernelspec": {
   "display_name": "Python 3",
   "language": "python",
   "name": "python3"
  },
  "language_info": {
   "codemirror_mode": {
    "name": "ipython",
    "version": 3
   },
   "file_extension": ".py",
   "mimetype": "text/x-python",
   "name": "python",
   "nbconvert_exporter": "python",
   "pygments_lexer": "ipython3",
   "version": "3.6.5"
  }
 },
 "nbformat": 4,
 "nbformat_minor": 2
}
