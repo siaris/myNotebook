{
 "cells": [
  {
   "cell_type": "code",
   "execution_count": 6,
   "metadata": {},
   "outputs": [],
   "source": [
    "import mysql.connector\n",
    "import pandas as pd\n",
    "import getpass"
   ]
  },
  {
   "cell_type": "code",
   "execution_count": 101,
   "metadata": {},
   "outputs": [
    {
     "name": "stdout",
     "output_type": "stream",
     "text": [
      "host:103.135.214.213\n",
      "user:analis_sirs\n",
      "password:········\n",
      "db:········\n"
     ]
    }
   ],
   "source": [
    "#103.135.214.213\n",
    "#analis_sirs\n",
    "#P@ssw0rd2021!\n",
    "mydb = mysql.connector.connect(\n",
    "  host=input('host:'),\n",
    "  user=input('user:'),\n",
    "  password=getpass.getpass('password:'),\n",
    "  database=getpass.getpass('db:') \n",
    ")\n",
    "\n",
    "mycursor = mydb.cursor(dictionary=True)"
   ]
  },
  {
   "cell_type": "code",
   "execution_count": 97,
   "metadata": {},
   "outputs": [],
   "source": [
    "def exec(q):\n",
    "  mycursor.execute(q)\n",
    "  return mycursor.fetchall()\n",
    "\n",
    "def exc_q_transfer(Y,dp='183',T='M'):\n",
    "    dpT = 'NULL'\n",
    "    dpK = dp\n",
    "    if(T == 'M'):\n",
    "        dpT = dpK\n",
    "        dpK = 'NULL'\n",
    "    return exec('SELECT \\\n",
    "        inventori_transfer_logistik_detail.no_transfer,inventori_transfer_logistik.tgl_acc_permintaan AS tgl_transfer ,\\\n",
    "        masterf_katalog.nama_barang,qty_diberi as qty_diberi,hna_ppn_transfer hna_ppn,masterf_katalog.hna,\\\n",
    "        masterf_katalog.harga_terakhir,\\\n",
    "        SUM(hna_ppn_transfer * qty_diberi) AS total, md1.namaDepo AS penerima, md2.namaDepo AS pengirim,\\\n",
    "            jadbf2143.username,md1.id,md2.id, nama_kode_satuan_kecil,uraian, kode_obat, inventori_transfer_logistik.keterangan\\\n",
    "        FROM inventori_transfer_logistik\\\n",
    "        LEFT JOIN inventori_transfer_logistik_detail \\\n",
    "        ON inventori_transfer_logistik.no_transfer = inventori_transfer_logistik_detail.no_transfer\\\n",
    "        LEFT JOIN `masterf_depo` as md1 ON `md1`.`id` = `inventori_transfer_logistik`.`gudang_tujuan`\\\n",
    "        LEFT JOIN masterf_katalog on inventori_transfer_logistik_detail.kode_obat=masterf_katalog.kode\\\n",
    "        LEFT JOIN `masterf_depo` as md2 ON `md2`.`id` = `inventori_transfer_logistik`.`gudang_asal`\\\n",
    "        LEFT JOIN `user` as jadbf2143 ON `jadbf2143`.`id` = `inventori_transfer_logistik`.`acc_oleh`\\\n",
    "        INNER JOIN master_satuan_kecil e ON id_kode_satuan_kecil=kodeSatuanKecil\\\n",
    "        INNER JOIN master_sumber_referensi on (inventori_transfer_logistik.status=kode_ref and tipe_ref = \"IST\")\\\n",
    "        WHERE  1 = 1  AND inventori_transfer_logistik.status = 2  AND \\\n",
    "        DATE_FORMAT(inventori_transfer_logistik.tgl_acc_permintaan,\"%Y-%m-%d %H:%i\") \\\n",
    "        BETWEEN \"'+Y+'-01-01 00:00\" AND \"'+Y+'-12-31 23:59\" \\\n",
    "        AND kode_obat =IFNULL(NULL,kode_obat)\\\n",
    "        AND `inventori_transfer_logistik`.`gudang_tujuan` = IFNULL('+dpT+',`inventori_transfer_logistik`.`gudang_tujuan`)\\\n",
    "        AND `inventori_transfer_logistik`.`gudang_asal` = IFNULL('+dpK+',`inventori_transfer_logistik`.`gudang_asal`)  \\\n",
    "        GROUP BY inventori_transfer_logistik_detail.id')\n",
    "\n",
    "def do_in_out(Y,dp):\n",
    "    R = []\n",
    "    R.append(exc_q_transfer(Y,dp,'M'))\n",
    "    R.append(exc_q_transfer(Y,dp,'K'))\n",
    "    return R\n",
    "\n",
    "def komparasiDenganDesc(D1,D2,r=0):\n",
    "    return pd.merge(D1,D2,on=r,how='outer',indicator=True)\n",
    "\n",
    "#bangun query\n",
    "def bangun_q(DF,po,selisihM):\n",
    "    trn = ''\n",
    "    ret = ''\n",
    "    for i,r in DF[['kode_obat','qty_diberi','no_transfer','keterangan']]\\\n",
    "[(DF['keterangan'].str.contains(pat=po,regex=True,case=False))].iterrows():\n",
    "        ret += \"update inventori_penerimaan_logistik_farmasi_detail set qty = qty - \"+str(r['qty_diberi'])+\" \\\n",
    "    where no_po = '\"+po+\"' and kode_obat = '\"+r['kode_obat']+\"';\\n \\\n",
    "update log_stock_obatdepo set \\\n",
    "    jumlah_mutasi = jumlah_mutasi - \"+str(r['qty_diberi'])+\" where id_referensi = '\"+po+\"' \\\n",
    "    and kode_obat = '\"+r['kode_obat']+\"';\\n\"\n",
    "        if(trn != r['no_transfer']):\n",
    "            trn = r['no_transfer']\n",
    "            ret += \"UPDATE inventori_transfer_logistik\\\n",
    " SET tgl_buat_permintaan = DATE_ADD(tgl_buat_permintaan, INTERVAL \"+selisihM+\" MONTH),\\\n",
    "tgl_acc_permintaan = DATE_ADD(tgl_acc_permintaan, INTERVAL \"+selisihM+\" MONTH) \\\n",
    "WHERE no_transfer = '\"+trn+\"';\\n \\\n",
    "update log_stock_obatdepo set last_update = DATE_ADD(last_update, INTERVAL \"+selisihM+\" MONTH) \\\n",
    "where id_referensi = '\"+trn+\"';\\n\"\n",
    "    return ret"
   ]
  },
  {
   "cell_type": "code",
   "execution_count": 144,
   "metadata": {},
   "outputs": [
    {
     "ename": "OperationalError",
     "evalue": "2055: Lost connection to MySQL server at '103.135.214.213:3306', system error: 10060 A connection attempt failed because the connected party did not properly respond after a period of time, or established connection failed because connected host has failed to respond",
     "output_type": "error",
     "traceback": [
      "\u001b[1;31m---------------------------------------------------------------------------\u001b[0m",
      "\u001b[1;31mTimeoutError\u001b[0m                              Traceback (most recent call last)",
      "\u001b[1;32mC:\\ProgramData\\Anaconda3\\lib\\site-packages\\mysql\\connector\\network.py\u001b[0m in \u001b[0;36mrecv_plain\u001b[1;34m(self)\u001b[0m\n\u001b[0;32m    245\u001b[0m             \u001b[1;32mwhile\u001b[0m \u001b[0mpacket_len\u001b[0m \u001b[1;33m<\u001b[0m \u001b[1;36m4\u001b[0m\u001b[1;33m:\u001b[0m\u001b[1;33m\u001b[0m\u001b[0m\n\u001b[1;32m--> 246\u001b[1;33m                 \u001b[0mchunk\u001b[0m \u001b[1;33m=\u001b[0m \u001b[0mself\u001b[0m\u001b[1;33m.\u001b[0m\u001b[0msock\u001b[0m\u001b[1;33m.\u001b[0m\u001b[0mrecv\u001b[0m\u001b[1;33m(\u001b[0m\u001b[1;36m4\u001b[0m \u001b[1;33m-\u001b[0m \u001b[0mpacket_len\u001b[0m\u001b[1;33m)\u001b[0m\u001b[1;33m\u001b[0m\u001b[0m\n\u001b[0m\u001b[0;32m    247\u001b[0m                 \u001b[1;32mif\u001b[0m \u001b[1;32mnot\u001b[0m \u001b[0mchunk\u001b[0m\u001b[1;33m:\u001b[0m\u001b[1;33m\u001b[0m\u001b[0m\n",
      "\u001b[1;31mTimeoutError\u001b[0m: [WinError 10060] A connection attempt failed because the connected party did not properly respond after a period of time, or established connection failed because connected host has failed to respond",
      "\nDuring handling of the above exception, another exception occurred:\n",
      "\u001b[1;31mOperationalError\u001b[0m                          Traceback (most recent call last)",
      "\u001b[1;32m<ipython-input-144-850ee7392e44>\u001b[0m in \u001b[0;36m<module>\u001b[1;34m()\u001b[0m\n\u001b[1;32m----> 1\u001b[1;33m \u001b[0mR\u001b[0m \u001b[1;33m=\u001b[0m \u001b[0mdo_in_out\u001b[0m\u001b[1;33m(\u001b[0m\u001b[1;34m'2022'\u001b[0m\u001b[1;33m,\u001b[0m\u001b[1;34m'197'\u001b[0m\u001b[1;33m)\u001b[0m\u001b[1;33m\u001b[0m\u001b[0m\n\u001b[0m",
      "\u001b[1;32m<ipython-input-97-2440c1c5247f>\u001b[0m in \u001b[0;36mdo_in_out\u001b[1;34m(Y, dp)\u001b[0m\n\u001b[0;32m     13\u001b[0m \u001b[1;32mdef\u001b[0m \u001b[0mdo_in_out\u001b[0m\u001b[1;33m(\u001b[0m\u001b[0mY\u001b[0m\u001b[1;33m,\u001b[0m\u001b[0mdp\u001b[0m\u001b[1;33m)\u001b[0m\u001b[1;33m:\u001b[0m\u001b[1;33m\u001b[0m\u001b[0m\n\u001b[0;32m     14\u001b[0m     \u001b[0mR\u001b[0m \u001b[1;33m=\u001b[0m \u001b[1;33m[\u001b[0m\u001b[1;33m]\u001b[0m\u001b[1;33m\u001b[0m\u001b[0m\n\u001b[1;32m---> 15\u001b[1;33m     \u001b[0mR\u001b[0m\u001b[1;33m.\u001b[0m\u001b[0mappend\u001b[0m\u001b[1;33m(\u001b[0m\u001b[0mexc_q_transfer\u001b[0m\u001b[1;33m(\u001b[0m\u001b[0mY\u001b[0m\u001b[1;33m,\u001b[0m\u001b[0mdp\u001b[0m\u001b[1;33m,\u001b[0m\u001b[1;34m'M'\u001b[0m\u001b[1;33m)\u001b[0m\u001b[1;33m)\u001b[0m\u001b[1;33m\u001b[0m\u001b[0m\n\u001b[0m\u001b[0;32m     16\u001b[0m     \u001b[0mR\u001b[0m\u001b[1;33m.\u001b[0m\u001b[0mappend\u001b[0m\u001b[1;33m(\u001b[0m\u001b[0mexc_q_transfer\u001b[0m\u001b[1;33m(\u001b[0m\u001b[0mY\u001b[0m\u001b[1;33m,\u001b[0m\u001b[0mdp\u001b[0m\u001b[1;33m,\u001b[0m\u001b[1;34m'K'\u001b[0m\u001b[1;33m)\u001b[0m\u001b[1;33m)\u001b[0m\u001b[1;33m\u001b[0m\u001b[0m\n\u001b[0;32m     17\u001b[0m     \u001b[1;32mreturn\u001b[0m \u001b[0mR\u001b[0m\u001b[1;33m\u001b[0m\u001b[0m\n",
      "\u001b[1;32m<ipython-input-97-2440c1c5247f>\u001b[0m in \u001b[0;36mexc_q_transfer\u001b[1;34m(Y, dp, T)\u001b[0m\n\u001b[0;32m      9\u001b[0m         \u001b[0mdpT\u001b[0m \u001b[1;33m=\u001b[0m \u001b[0mdpK\u001b[0m\u001b[1;33m\u001b[0m\u001b[0m\n\u001b[0;32m     10\u001b[0m         \u001b[0mdpK\u001b[0m \u001b[1;33m=\u001b[0m \u001b[1;34m'NULL'\u001b[0m\u001b[1;33m\u001b[0m\u001b[0m\n\u001b[1;32m---> 11\u001b[1;33m     \u001b[1;32mreturn\u001b[0m \u001b[0mexec\u001b[0m\u001b[1;33m(\u001b[0m\u001b[1;34m'SELECT         inventori_transfer_logistik_detail.no_transfer,inventori_transfer_logistik.tgl_acc_permintaan AS tgl_transfer ,        masterf_katalog.nama_barang,qty_diberi as qty_diberi,hna_ppn_transfer hna_ppn,masterf_katalog.hna,        masterf_katalog.harga_terakhir,        SUM(hna_ppn_transfer * qty_diberi) AS total, md1.namaDepo AS penerima, md2.namaDepo AS pengirim,            jadbf2143.username,md1.id,md2.id, nama_kode_satuan_kecil,uraian, kode_obat, inventori_transfer_logistik.keterangan        FROM inventori_transfer_logistik        LEFT JOIN inventori_transfer_logistik_detail         ON inventori_transfer_logistik.no_transfer = inventori_transfer_logistik_detail.no_transfer        LEFT JOIN `masterf_depo` as md1 ON `md1`.`id` = `inventori_transfer_logistik`.`gudang_tujuan`        LEFT JOIN masterf_katalog on inventori_transfer_logistik_detail.kode_obat=masterf_katalog.kode        LEFT JOIN `masterf_depo` as md2 ON `md2`.`id` = `inventori_transfer_logistik`.`gudang_asal`        LEFT JOIN `user` as jadbf2143 ON `jadbf2143`.`id` = `inventori_transfer_logistik`.`acc_oleh`        INNER JOIN master_satuan_kecil e ON id_kode_satuan_kecil=kodeSatuanKecil        INNER JOIN master_sumber_referensi on (inventori_transfer_logistik.status=kode_ref and tipe_ref = \"IST\")        WHERE  1 = 1  AND inventori_transfer_logistik.status = 2  AND         DATE_FORMAT(inventori_transfer_logistik.tgl_acc_permintaan,\"%Y-%m-%d %H:%i\")         BETWEEN \"'\u001b[0m\u001b[1;33m+\u001b[0m\u001b[0mY\u001b[0m\u001b[1;33m+\u001b[0m\u001b[1;34m'-01-01 00:00\" AND \"'\u001b[0m\u001b[1;33m+\u001b[0m\u001b[0mY\u001b[0m\u001b[1;33m+\u001b[0m\u001b[1;34m'-12-31 23:59\"         AND kode_obat =IFNULL(NULL,kode_obat)        AND `inventori_transfer_logistik`.`gudang_tujuan` = IFNULL('\u001b[0m\u001b[1;33m+\u001b[0m\u001b[0mdpT\u001b[0m\u001b[1;33m+\u001b[0m\u001b[1;34m',`inventori_transfer_logistik`.`gudang_tujuan`)        AND `inventori_transfer_logistik`.`gudang_asal` = IFNULL('\u001b[0m\u001b[1;33m+\u001b[0m\u001b[0mdpK\u001b[0m\u001b[1;33m+\u001b[0m\u001b[1;34m',`inventori_transfer_logistik`.`gudang_asal`)          GROUP BY inventori_transfer_logistik_detail.id'\u001b[0m\u001b[1;33m)\u001b[0m\u001b[1;33m\u001b[0m\u001b[0m\n\u001b[0m\u001b[0;32m     12\u001b[0m \u001b[1;33m\u001b[0m\u001b[0m\n\u001b[0;32m     13\u001b[0m \u001b[1;32mdef\u001b[0m \u001b[0mdo_in_out\u001b[0m\u001b[1;33m(\u001b[0m\u001b[0mY\u001b[0m\u001b[1;33m,\u001b[0m\u001b[0mdp\u001b[0m\u001b[1;33m)\u001b[0m\u001b[1;33m:\u001b[0m\u001b[1;33m\u001b[0m\u001b[0m\n",
      "\u001b[1;32m<ipython-input-97-2440c1c5247f>\u001b[0m in \u001b[0;36mexec\u001b[1;34m(q)\u001b[0m\n\u001b[0;32m      1\u001b[0m \u001b[1;32mdef\u001b[0m \u001b[0mexec\u001b[0m\u001b[1;33m(\u001b[0m\u001b[0mq\u001b[0m\u001b[1;33m)\u001b[0m\u001b[1;33m:\u001b[0m\u001b[1;33m\u001b[0m\u001b[0m\n\u001b[1;32m----> 2\u001b[1;33m   \u001b[0mmycursor\u001b[0m\u001b[1;33m.\u001b[0m\u001b[0mexecute\u001b[0m\u001b[1;33m(\u001b[0m\u001b[0mq\u001b[0m\u001b[1;33m)\u001b[0m\u001b[1;33m\u001b[0m\u001b[0m\n\u001b[0m\u001b[0;32m      3\u001b[0m   \u001b[1;32mreturn\u001b[0m \u001b[0mmycursor\u001b[0m\u001b[1;33m.\u001b[0m\u001b[0mfetchall\u001b[0m\u001b[1;33m(\u001b[0m\u001b[1;33m)\u001b[0m\u001b[1;33m\u001b[0m\u001b[0m\n\u001b[0;32m      4\u001b[0m \u001b[1;33m\u001b[0m\u001b[0m\n\u001b[0;32m      5\u001b[0m \u001b[1;32mdef\u001b[0m \u001b[0mexc_q_transfer\u001b[0m\u001b[1;33m(\u001b[0m\u001b[0mY\u001b[0m\u001b[1;33m,\u001b[0m\u001b[0mdp\u001b[0m\u001b[1;33m=\u001b[0m\u001b[1;34m'183'\u001b[0m\u001b[1;33m,\u001b[0m\u001b[0mT\u001b[0m\u001b[1;33m=\u001b[0m\u001b[1;34m'M'\u001b[0m\u001b[1;33m)\u001b[0m\u001b[1;33m:\u001b[0m\u001b[1;33m\u001b[0m\u001b[0m\n",
      "\u001b[1;32mC:\\ProgramData\\Anaconda3\\lib\\site-packages\\mysql\\connector\\cursor.py\u001b[0m in \u001b[0;36mexecute\u001b[1;34m(self, operation, params, multi)\u001b[0m\n\u001b[0;32m    570\u001b[0m \u001b[1;33m\u001b[0m\u001b[0m\n\u001b[0;32m    571\u001b[0m         \u001b[1;32mtry\u001b[0m\u001b[1;33m:\u001b[0m\u001b[1;33m\u001b[0m\u001b[0m\n\u001b[1;32m--> 572\u001b[1;33m             \u001b[0mself\u001b[0m\u001b[1;33m.\u001b[0m\u001b[0m_handle_result\u001b[0m\u001b[1;33m(\u001b[0m\u001b[0mself\u001b[0m\u001b[1;33m.\u001b[0m\u001b[0m_connection\u001b[0m\u001b[1;33m.\u001b[0m\u001b[0mcmd_query\u001b[0m\u001b[1;33m(\u001b[0m\u001b[0mstmt\u001b[0m\u001b[1;33m)\u001b[0m\u001b[1;33m)\u001b[0m\u001b[1;33m\u001b[0m\u001b[0m\n\u001b[0m\u001b[0;32m    573\u001b[0m         \u001b[1;32mexcept\u001b[0m \u001b[0merrors\u001b[0m\u001b[1;33m.\u001b[0m\u001b[0mInterfaceError\u001b[0m\u001b[1;33m:\u001b[0m\u001b[1;33m\u001b[0m\u001b[0m\n\u001b[0;32m    574\u001b[0m             \u001b[1;32mif\u001b[0m \u001b[0mself\u001b[0m\u001b[1;33m.\u001b[0m\u001b[0m_connection\u001b[0m\u001b[1;33m.\u001b[0m\u001b[0m_have_next_result\u001b[0m\u001b[1;33m:\u001b[0m  \u001b[1;31m# pylint: disable=W0212\u001b[0m\u001b[1;33m\u001b[0m\u001b[0m\n",
      "\u001b[1;32mC:\\ProgramData\\Anaconda3\\lib\\site-packages\\mysql\\connector\\connection.py\u001b[0m in \u001b[0;36mcmd_query\u001b[1;34m(self, query, raw, buffered, raw_as_string)\u001b[0m\n\u001b[0;32m    920\u001b[0m         \u001b[0mquery\u001b[0m \u001b[1;33m=\u001b[0m \u001b[0mbytes\u001b[0m\u001b[1;33m(\u001b[0m\u001b[0mpacket\u001b[0m\u001b[1;33m)\u001b[0m\u001b[1;33m\u001b[0m\u001b[0m\n\u001b[0;32m    921\u001b[0m         \u001b[1;32mtry\u001b[0m\u001b[1;33m:\u001b[0m\u001b[1;33m\u001b[0m\u001b[0m\n\u001b[1;32m--> 922\u001b[1;33m             \u001b[0mresult\u001b[0m \u001b[1;33m=\u001b[0m \u001b[0mself\u001b[0m\u001b[1;33m.\u001b[0m\u001b[0m_handle_result\u001b[0m\u001b[1;33m(\u001b[0m\u001b[0mself\u001b[0m\u001b[1;33m.\u001b[0m\u001b[0m_send_cmd\u001b[0m\u001b[1;33m(\u001b[0m\u001b[0mServerCmd\u001b[0m\u001b[1;33m.\u001b[0m\u001b[0mQUERY\u001b[0m\u001b[1;33m,\u001b[0m \u001b[0mquery\u001b[0m\u001b[1;33m)\u001b[0m\u001b[1;33m)\u001b[0m\u001b[1;33m\u001b[0m\u001b[0m\n\u001b[0m\u001b[0;32m    923\u001b[0m         \u001b[1;32mexcept\u001b[0m \u001b[0merrors\u001b[0m\u001b[1;33m.\u001b[0m\u001b[0mProgrammingError\u001b[0m \u001b[1;32mas\u001b[0m \u001b[0merr\u001b[0m\u001b[1;33m:\u001b[0m\u001b[1;33m\u001b[0m\u001b[0m\n\u001b[0;32m    924\u001b[0m             \u001b[1;32mif\u001b[0m \u001b[0merr\u001b[0m\u001b[1;33m.\u001b[0m\u001b[0merrno\u001b[0m \u001b[1;33m==\u001b[0m \u001b[1;36m3948\u001b[0m \u001b[1;32mand\u001b[0m\u001b[0;31m \u001b[0m\u001b[0;31m\\\u001b[0m\u001b[1;33m\u001b[0m\u001b[0m\n",
      "\u001b[1;32mC:\\ProgramData\\Anaconda3\\lib\\site-packages\\mysql\\connector\\connection.py\u001b[0m in \u001b[0;36m_send_cmd\u001b[1;34m(self, command, argument, packet_number, packet, expect_response, compressed_packet_number)\u001b[0m\n\u001b[0;32m    575\u001b[0m         \u001b[1;32mif\u001b[0m \u001b[1;32mnot\u001b[0m \u001b[0mexpect_response\u001b[0m\u001b[1;33m:\u001b[0m\u001b[1;33m\u001b[0m\u001b[0m\n\u001b[0;32m    576\u001b[0m             \u001b[1;32mreturn\u001b[0m \u001b[1;32mNone\u001b[0m\u001b[1;33m\u001b[0m\u001b[0m\n\u001b[1;32m--> 577\u001b[1;33m         \u001b[1;32mreturn\u001b[0m \u001b[0mself\u001b[0m\u001b[1;33m.\u001b[0m\u001b[0m_socket\u001b[0m\u001b[1;33m.\u001b[0m\u001b[0mrecv\u001b[0m\u001b[1;33m(\u001b[0m\u001b[1;33m)\u001b[0m\u001b[1;33m\u001b[0m\u001b[0m\n\u001b[0m\u001b[0;32m    578\u001b[0m \u001b[1;33m\u001b[0m\u001b[0m\n\u001b[0;32m    579\u001b[0m     \u001b[1;32mdef\u001b[0m \u001b[0m_send_data\u001b[0m\u001b[1;33m(\u001b[0m\u001b[0mself\u001b[0m\u001b[1;33m,\u001b[0m \u001b[0mdata_file\u001b[0m\u001b[1;33m,\u001b[0m \u001b[0msend_empty_packet\u001b[0m\u001b[1;33m=\u001b[0m\u001b[1;32mFalse\u001b[0m\u001b[1;33m)\u001b[0m\u001b[1;33m:\u001b[0m\u001b[1;33m\u001b[0m\u001b[0m\n",
      "\u001b[1;32mC:\\ProgramData\\Anaconda3\\lib\\site-packages\\mysql\\connector\\network.py\u001b[0m in \u001b[0;36mrecv_plain\u001b[1;34m(self)\u001b[0m\n\u001b[0;32m    268\u001b[0m         \u001b[1;32mexcept\u001b[0m \u001b[0mIOError\u001b[0m \u001b[1;32mas\u001b[0m \u001b[0merr\u001b[0m\u001b[1;33m:\u001b[0m\u001b[1;33m\u001b[0m\u001b[0m\n\u001b[0;32m    269\u001b[0m             raise errors.OperationalError(\n\u001b[1;32m--> 270\u001b[1;33m                 errno=2055, values=(self.get_address(), _strioerror(err)))\n\u001b[0m\u001b[0;32m    271\u001b[0m \u001b[1;33m\u001b[0m\u001b[0m\n\u001b[0;32m    272\u001b[0m     \u001b[1;32mdef\u001b[0m \u001b[0mrecv_py26_plain\u001b[0m\u001b[1;33m(\u001b[0m\u001b[0mself\u001b[0m\u001b[1;33m)\u001b[0m\u001b[1;33m:\u001b[0m\u001b[1;33m\u001b[0m\u001b[0m\n",
      "\u001b[1;31mOperationalError\u001b[0m: 2055: Lost connection to MySQL server at '103.135.214.213:3306', system error: 10060 A connection attempt failed because the connected party did not properly respond after a period of time, or established connection failed because connected host has failed to respond"
     ]
    }
   ],
   "source": [
    "R = do_in_out('2022','197')"
   ]
  },
  {
   "cell_type": "code",
   "execution_count": 103,
   "metadata": {},
   "outputs": [
    {
     "data": {
      "text/html": [
       "<div>\n",
       "<style scoped>\n",
       "    .dataframe tbody tr th:only-of-type {\n",
       "        vertical-align: middle;\n",
       "    }\n",
       "\n",
       "    .dataframe tbody tr th {\n",
       "        vertical-align: top;\n",
       "    }\n",
       "\n",
       "    .dataframe thead th {\n",
       "        text-align: right;\n",
       "    }\n",
       "</style>\n",
       "<table border=\"1\" class=\"dataframe\">\n",
       "  <thead>\n",
       "    <tr style=\"text-align: right;\">\n",
       "      <th></th>\n",
       "      <th>qty_diberi_x</th>\n",
       "      <th>qty_diberi_y</th>\n",
       "      <th>_merge</th>\n",
       "      <th>agg</th>\n",
       "    </tr>\n",
       "    <tr>\n",
       "      <th>kode_obat</th>\n",
       "      <th></th>\n",
       "      <th></th>\n",
       "      <th></th>\n",
       "      <th></th>\n",
       "    </tr>\n",
       "  </thead>\n",
       "  <tbody>\n",
       "  </tbody>\n",
       "</table>\n",
       "</div>"
      ],
      "text/plain": [
       "Empty DataFrame\n",
       "Columns: [qty_diberi_x, qty_diberi_y, _merge, agg]\n",
       "Index: []"
      ]
     },
     "execution_count": 103,
     "metadata": {},
     "output_type": "execute_result"
    }
   ],
   "source": [
    "DTM = pd.DataFrame.from_dict(R[0])\n",
    "DTK = pd.DataFrame.from_dict(R[1])\n",
    "DTMG = DTM[['kode_obat','qty_diberi']].groupby(by='kode_obat').sum()\n",
    "DTKG = DTK[['kode_obat','qty_diberi']].groupby(by='kode_obat').sum()\n",
    "DC = komparasiDenganDesc(DTMG,DTKG,'kode_obat')\n",
    "DC.loc[:,'agg'] = DC['qty_diberi_x'].fillna(0) - DC['qty_diberi_x'].fillna(0)\n",
    "DC[(DC['agg'] > 0)]"
   ]
  },
  {
   "cell_type": "code",
   "execution_count": 143,
   "metadata": {},
   "outputs": [
    {
     "name": "stdout",
     "output_type": "stream",
     "text": [
      "update inventori_penerimaan_logistik_farmasi_detail set qty = qty - 1.00     where no_po = '00115/PO/PPO/04/2022' and kode_obat = '020700163';\n",
      " update log_stock_obatdepo set     jumlah_mutasi = jumlah_mutasi - 1.00 where id_referensi = '00115/PO/PPO/04/2022'     and kode_obat = '020700163';\n",
      "UPDATE inventori_transfer_logistik SET tgl_buat_permintaan = DATE_ADD(tgl_buat_permintaan, INTERVAL -1 MONTH),tgl_acc_permintaan = DATE_ADD(tgl_acc_permintaan, INTERVAL -1 MONTH) WHERE no_transfer = 'TRN/220510/208/197/00067';\n",
      " update log_stock_obatdepo set last_update = DATE_ADD(last_update, INTERVAL -1 MONTH) where id_referensi = 'TRN/220510/208/197/00067';\n",
      "update inventori_penerimaan_logistik_farmasi_detail set qty = qty - 1.00     where no_po = '00115/PO/PPO/04/2022' and kode_obat = '020700221';\n",
      " update log_stock_obatdepo set     jumlah_mutasi = jumlah_mutasi - 1.00 where id_referensi = '00115/PO/PPO/04/2022'     and kode_obat = '020700221';\n",
      "\n"
     ]
    }
   ],
   "source": [
    "print(bangun_q(DTK,'00115/PO/PPO/04/2022','-1'))"
   ]
  },
  {
   "cell_type": "code",
   "execution_count": 112,
   "metadata": {},
   "outputs": [
    {
     "name": "stdout",
     "output_type": "stream",
     "text": [
      "[4, 8]\n"
     ]
    }
   ],
   "source": [
    "l = [2,3]\n",
    "m = map(lambda x: 2**x,l)\n",
    "print(list(m))"
   ]
  },
  {
   "cell_type": "code",
   "execution_count": 113,
   "metadata": {},
   "outputs": [
    {
     "ename": "TypeError",
     "evalue": "'<' not supported between instances of 'complex' and 'int'",
     "output_type": "error",
     "traceback": [
      "\u001b[1;31m---------------------------------------------------------------------------\u001b[0m",
      "\u001b[1;31mTypeError\u001b[0m                                 Traceback (most recent call last)",
      "\u001b[1;32m<ipython-input-113-63862d2e5a3f>\u001b[0m in \u001b[0;36m<module>\u001b[1;34m()\u001b[0m\n\u001b[0;32m      1\u001b[0m \u001b[0ma\u001b[0m \u001b[1;33m=\u001b[0m \u001b[1;33m[\u001b[0m\u001b[1;36m2\u001b[0m\u001b[1;33m,\u001b[0m\u001b[1;36m5J\u001b[0m\u001b[1;33m,\u001b[0m\u001b[1;36m6\u001b[0m\u001b[1;33m]\u001b[0m\u001b[1;33m\u001b[0m\u001b[0m\n\u001b[1;32m----> 2\u001b[1;33m \u001b[0mprint\u001b[0m\u001b[1;33m(\u001b[0m\u001b[0ma\u001b[0m\u001b[1;33m.\u001b[0m\u001b[0msort\u001b[0m\u001b[1;33m(\u001b[0m\u001b[1;33m)\u001b[0m\u001b[1;33m)\u001b[0m\u001b[1;33m\u001b[0m\u001b[0m\n\u001b[0m",
      "\u001b[1;31mTypeError\u001b[0m: '<' not supported between instances of 'complex' and 'int'"
     ]
    }
   ],
   "source": [
    "a = [2,5J,6]\n",
    "print(a.sort())"
   ]
  },
  {
   "cell_type": "code",
   "execution_count": 115,
   "metadata": {},
   "outputs": [
    {
     "name": "stdout",
     "output_type": "stream",
     "text": [
      "['t', 'u', 'r', 'i', 'n', 'g']\n"
     ]
    }
   ],
   "source": [
    "print([i.lower() for i in \"TURING\"])"
   ]
  },
  {
   "cell_type": "code",
   "execution_count": 118,
   "metadata": {},
   "outputs": [
    {
     "name": "stdout",
     "output_type": "stream",
     "text": [
      "[1, 3, 6]\n"
     ]
    }
   ],
   "source": [
    "a = [1,2,3]\n",
    "b = [sum(a[0:x+1]) for x in range(0,len(a))]\n",
    "print(b)"
   ]
  },
  {
   "cell_type": "code",
   "execution_count": 132,
   "metadata": {},
   "outputs": [
    {
     "name": "stdout",
     "output_type": "stream",
     "text": [
      "{'p', 'c', 'q', 'b', 'a', 'san'}\n"
     ]
    }
   ],
   "source": [
    "z=set('abc')\n",
    "z.add('san')\n",
    "z.update(set(['p','q']))\n",
    "print(z)"
   ]
  },
  {
   "cell_type": "code",
   "execution_count": 137,
   "metadata": {},
   "outputs": [
    {
     "data": {
      "text/plain": [
       "'Sff asas ddd'"
      ]
     },
     "execution_count": 137,
     "metadata": {},
     "output_type": "execute_result"
    }
   ],
   "source": [
    "'sff asas DDD'.capitalize()"
   ]
  },
  {
   "cell_type": "code",
   "execution_count": 138,
   "metadata": {},
   "outputs": [
    {
     "name": "stdout",
     "output_type": "stream",
     "text": [
      "False\n"
     ]
    }
   ],
   "source": [
    "print([1,2] == [3,4])"
   ]
  },
  {
   "cell_type": "code",
   "execution_count": 142,
   "metadata": {},
   "outputs": [
    {
     "data": {
      "text/plain": [
       "'The dd side dd1'"
      ]
     },
     "execution_count": 142,
     "metadata": {},
     "output_type": "execute_result"
    }
   ],
   "source": [
    "'The {0} side {1}'.format('dd','dd1')"
   ]
  },
  {
   "cell_type": "code",
   "execution_count": 140,
   "metadata": {},
   "outputs": [
    {
     "name": "stdout",
     "output_type": "stream",
     "text": [
      "[2, 6]\n"
     ]
    }
   ],
   "source": [
    "print([2,6])"
   ]
  },
  {
   "cell_type": "code",
   "execution_count": null,
   "metadata": {},
   "outputs": [],
   "source": []
  }
 ],
 "metadata": {
  "kernelspec": {
   "display_name": "Python 3",
   "language": "python",
   "name": "python3"
  },
  "language_info": {
   "codemirror_mode": {
    "name": "ipython",
    "version": 3
   },
   "file_extension": ".py",
   "mimetype": "text/x-python",
   "name": "python",
   "nbconvert_exporter": "python",
   "pygments_lexer": "ipython3",
   "version": "3.6.5"
  }
 },
 "nbformat": 4,
 "nbformat_minor": 2
}
