{
 "cells": [
  {
   "cell_type": "code",
   "execution_count": 6,
   "metadata": {},
   "outputs": [],
   "source": [
    "import mysql.connector\n",
    "import pandas as pd\n",
    "import getpass"
   ]
  },
  {
   "cell_type": "code",
   "execution_count": 187,
   "metadata": {},
   "outputs": [
    {
     "name": "stdout",
     "output_type": "stream",
     "text": [
      "how connected(local/public):local\n"
     ]
    }
   ],
   "source": [
    "con = open('ref_con/db-prima', 'r').read().splitlines()\n",
    "how = input('how connected(local/public):')\n",
    "\n",
    "mydb = mysql.connector.connect(\n",
    "  host=con[0] if how == 'public' else con[1],\n",
    "  user=con[2],\n",
    "  password=con[3],\n",
    "  database=con[4] \n",
    ")\n",
    "\n",
    "mycursor = mydb.cursor(dictionary=True)"
   ]
  },
  {
   "cell_type": "code",
   "execution_count": 165,
   "metadata": {},
   "outputs": [],
   "source": [
    "def exec(q):\n",
    "  mycursor.execute(q)\n",
    "  return mycursor.fetchall()\n",
    "\n",
    "def exc_q_transfer(Y,dp='183',T='M'):\n",
    "    dpT = 'NULL'\n",
    "    dpK = dp\n",
    "    if(T == 'M'):\n",
    "        dpT = dpK\n",
    "        dpK = 'NULL'\n",
    "    return exec('SELECT \\\n",
    "        inventori_transfer_logistik_detail.no_transfer,inventori_transfer_logistik.tgl_acc_permintaan AS tgl_transfer ,\\\n",
    "        masterf_katalog.nama_barang,qty_diberi as qty_diberi,hna_ppn_transfer hna_ppn,masterf_katalog.hna,\\\n",
    "        masterf_katalog.harga_terakhir,\\\n",
    "        SUM(hna_ppn_transfer * qty_diberi) AS total, md1.namaDepo AS penerima, md2.namaDepo AS pengirim,\\\n",
    "            jadbf2143.username,md1.id,md2.id, nama_kode_satuan_kecil,uraian, kode_obat, inventori_transfer_logistik.keterangan\\\n",
    "        FROM inventori_transfer_logistik\\\n",
    "        LEFT JOIN inventori_transfer_logistik_detail \\\n",
    "        ON inventori_transfer_logistik.no_transfer = inventori_transfer_logistik_detail.no_transfer\\\n",
    "        LEFT JOIN `masterf_depo` as md1 ON `md1`.`id` = `inventori_transfer_logistik`.`gudang_tujuan`\\\n",
    "        LEFT JOIN masterf_katalog on inventori_transfer_logistik_detail.kode_obat=masterf_katalog.kode\\\n",
    "        LEFT JOIN `masterf_depo` as md2 ON `md2`.`id` = `inventori_transfer_logistik`.`gudang_asal`\\\n",
    "        LEFT JOIN `user` as jadbf2143 ON `jadbf2143`.`id` = `inventori_transfer_logistik`.`acc_oleh`\\\n",
    "        INNER JOIN master_satuan_kecil e ON id_kode_satuan_kecil=kodeSatuanKecil\\\n",
    "        INNER JOIN master_sumber_referensi on (inventori_transfer_logistik.status=kode_ref and tipe_ref = \"IST\")\\\n",
    "        WHERE  1 = 1  AND inventori_transfer_logistik.status = 2  AND \\\n",
    "        DATE_FORMAT(inventori_transfer_logistik.tgl_acc_permintaan,\"%Y-%m-%d %H:%i\") \\\n",
    "        BETWEEN \"'+Y+'-01-01 00:00\" AND \"'+Y+'-12-31 23:59\" \\\n",
    "        AND kode_obat =IFNULL(NULL,kode_obat)\\\n",
    "        AND `inventori_transfer_logistik`.`gudang_tujuan` = IFNULL('+dpK+',`inventori_transfer_logistik`.`gudang_tujuan`)\\\n",
    "        AND `inventori_transfer_logistik`.`gudang_asal` = IFNULL('+dpT+',`inventori_transfer_logistik`.`gudang_asal`)  \\\n",
    "        GROUP BY inventori_transfer_logistik_detail.id')\n",
    "\n",
    "def do_in_out(Y,dp):\n",
    "    R = []\n",
    "    R.append(exc_q_transfer(Y,dp,'M'))\n",
    "    R.append(exc_q_transfer(Y,dp,'K'))\n",
    "    return R\n",
    "\n",
    "def komparasiDenganDesc(D1,D2,r=0):\n",
    "    return pd.merge(D1,D2,on=r,how='outer',indicator=True)\n",
    "\n",
    "#bangun query\n",
    "def bangun_q(DF,po,selisihM):\n",
    "    trn = ''\n",
    "    ret = ''\n",
    "    for i,r in DF[['kode_obat','qty_diberi','no_transfer','keterangan']]\\\n",
    "[(DF['keterangan'].str.contains(pat=po,regex=True,case=False))].iterrows():\n",
    "        ret += \"update inventori_penerimaan_logistik_farmasi_detail set qty = qty - \"+str(r['qty_diberi'])+\" \\\n",
    "    where no_po = '\"+po+\"' and kode_obat = '\"+r['kode_obat']+\"';\\n \\\n",
    "update log_stock_obatdepo set \\\n",
    "    jumlah_mutasi = jumlah_mutasi - \"+str(r['qty_diberi'])+\" where id_referensi = '\"+po+\"' \\\n",
    "    and kode_obat = '\"+r['kode_obat']+\"';\\n\"\n",
    "        if(trn != r['no_transfer']):\n",
    "            trn = r['no_transfer']\n",
    "            ret += \"UPDATE inventori_transfer_logistik\\\n",
    " SET tgl_buat_permintaan = DATE_ADD(tgl_buat_permintaan, INTERVAL \"+selisihM+\" MONTH),\\\n",
    "tgl_acc_permintaan = DATE_ADD(tgl_acc_permintaan, INTERVAL \"+selisihM+\" MONTH) \\\n",
    "WHERE no_transfer = '\"+trn+\"';\\n \\\n",
    "update log_stock_obatdepo set last_update = DATE_ADD(last_update, INTERVAL \"+selisihM+\" MONTH) \\\n",
    "where id_referensi = '\"+trn+\"';\\n\"\n",
    "    return ret"
   ]
  },
  {
   "cell_type": "code",
   "execution_count": 166,
   "metadata": {},
   "outputs": [],
   "source": [
    "R = do_in_out('2022','197')"
   ]
  },
  {
   "cell_type": "code",
   "execution_count": 177,
   "metadata": {},
   "outputs": [
    {
     "data": {
      "text/html": [
       "<div>\n",
       "<style scoped>\n",
       "    .dataframe tbody tr th:only-of-type {\n",
       "        vertical-align: middle;\n",
       "    }\n",
       "\n",
       "    .dataframe tbody tr th {\n",
       "        vertical-align: top;\n",
       "    }\n",
       "\n",
       "    .dataframe thead th {\n",
       "        text-align: right;\n",
       "    }\n",
       "</style>\n",
       "<table border=\"1\" class=\"dataframe\">\n",
       "  <thead>\n",
       "    <tr style=\"text-align: right;\">\n",
       "      <th></th>\n",
       "      <th>qty_diberi_x</th>\n",
       "      <th>qty_diberi_y</th>\n",
       "      <th>_merge</th>\n",
       "      <th>agg</th>\n",
       "    </tr>\n",
       "    <tr>\n",
       "      <th>kode_obat</th>\n",
       "      <th></th>\n",
       "      <th></th>\n",
       "      <th></th>\n",
       "      <th></th>\n",
       "    </tr>\n",
       "  </thead>\n",
       "  <tbody>\n",
       "    <tr>\n",
       "      <th>024200096</th>\n",
       "      <td>20.00</td>\n",
       "      <td>NaN</td>\n",
       "      <td>left_only</td>\n",
       "      <td>20.00</td>\n",
       "    </tr>\n",
       "    <tr>\n",
       "      <th>024300181</th>\n",
       "      <td>1.00</td>\n",
       "      <td>NaN</td>\n",
       "      <td>left_only</td>\n",
       "      <td>1.00</td>\n",
       "    </tr>\n",
       "  </tbody>\n",
       "</table>\n",
       "</div>"
      ],
      "text/plain": [
       "          qty_diberi_x qty_diberi_y     _merge    agg\n",
       "kode_obat                                            \n",
       "024200096        20.00          NaN  left_only  20.00\n",
       "024300181         1.00          NaN  left_only   1.00"
      ]
     },
     "execution_count": 177,
     "metadata": {},
     "output_type": "execute_result"
    }
   ],
   "source": [
    "DTM = pd.DataFrame.from_dict(R[0])\n",
    "DTK = pd.DataFrame.from_dict(R[1])\n",
    "DTMG = DTM[['kode_obat','qty_diberi']].groupby(by='kode_obat').sum()\n",
    "DTKG = DTK[['kode_obat','qty_diberi']].groupby(by='kode_obat').sum()\n",
    "DC = komparasiDenganDesc(DTMG,DTKG,'kode_obat')\n",
    "DC.loc[:,'agg'] = DC['qty_diberi_x'].fillna(0) - DC['qty_diberi_y'].fillna(0)\n",
    "DC[(DC['agg'] != 0)]"
   ]
  },
  {
   "cell_type": "code",
   "execution_count": 179,
   "metadata": {},
   "outputs": [
    {
     "name": "stdout",
     "output_type": "stream",
     "text": [
      "not empty\n"
     ]
    }
   ],
   "source": [
    "if DC[(DC['agg'] != 0)].empty:\n",
    "    print(bangun_q(DTM,'00298/PO/PPO/04/2022','-1'))\n",
    "else:\n",
    "    print('not empty')"
   ]
  },
  {
   "cell_type": "code",
   "execution_count": null,
   "metadata": {},
   "outputs": [],
   "source": []
  }
 ],
 "metadata": {
  "kernelspec": {
   "display_name": "Python 3",
   "language": "python",
   "name": "python3"
  },
  "language_info": {
   "codemirror_mode": {
    "name": "ipython",
    "version": 3
   },
   "file_extension": ".py",
   "mimetype": "text/x-python",
   "name": "python",
   "nbconvert_exporter": "python",
   "pygments_lexer": "ipython3",
   "version": "3.6.5"
  }
 },
 "nbformat": 4,
 "nbformat_minor": 2
}
