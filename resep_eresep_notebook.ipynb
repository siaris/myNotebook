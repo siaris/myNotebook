{
  "cells": [
    {
      "cell_type": "code",
      "execution_count": null,
      "metadata": {
        "colab": {
          "base_uri": "https://localhost:8080/"
        },
        "id": "_8Q_gU_5W6MB",
        "outputId": "4383539d-1703-4814-9d7e-85ef55db8fe7"
      },
      "outputs": [
        {
          "output_type": "stream",
          "name": "stdout",
          "text": [
            "Collecting mysql-connector-python\n",
            "  Downloading mysql_connector_python-8.0.28-cp37-cp37m-manylinux1_x86_64.whl (37.6 MB)\n",
            "\u001b[K     |████████████████████████████████| 37.6 MB 1.3 MB/s \n",
            "\u001b[?25hRequirement already satisfied: protobuf>=3.0.0 in /usr/local/lib/python3.7/dist-packages (from mysql-connector-python) (3.17.3)\n",
            "Requirement already satisfied: six>=1.9 in /usr/local/lib/python3.7/dist-packages (from protobuf>=3.0.0->mysql-connector-python) (1.15.0)\n",
            "Installing collected packages: mysql-connector-python\n",
            "Successfully installed mysql-connector-python-8.0.28\n"
          ]
        }
      ],
      "source": [
        "!pip install mysql-connector-python\n",
        "import mysql.connector\n",
        "from datetime import datetime,timedelta"
      ]
    },
    {
      "cell_type": "code",
      "execution_count": null,
      "metadata": {
        "id": "2RaVkiyPW6MC",
        "colab": {
          "base_uri": "https://localhost:8080/"
        },
        "outputId": "4e2a3684-fe17-4933-985e-3bd3014f278a"
      },
      "outputs": [
        {
          "name": "stdout",
          "output_type": "stream",
          "text": [
            "host:120.29.158.5\n",
            "user:analis_sirs\n",
            "password:··········\n"
          ]
        }
      ],
      "source": [
        "import getpass\n",
        "mydb = mysql.connector.connect(\n",
        "  host=input('host:'),\n",
        "  user=input('user:'),\n",
        "  password=getpass.getpass('password:')\n",
        ")\n",
        "\n",
        "import json\n",
        "import pandas as pd\n",
        "import numpy as np\n",
        "mycursor = mydb.cursor()\n",
        "\n",
        "def exec_q(qT):\n",
        "  mycursor.execute(qT)\n",
        "  myresult = mycursor.fetchall()\n",
        "  jD = []\n",
        "  for x in myresult:\n",
        "    jD.append(x[0])\n",
        "  JReturn = '['+','.join(jD)+']'\n",
        "  return JReturn\n",
        "\n",
        "def exec_sql(sql):\n",
        "  mycursor.execute(sql)\n",
        "  myresult = mycursor.fetchall()\n",
        "  return myresult\n",
        "\n",
        "def ex_msr_tipe(t):\n",
        "  return exec_sql('select * from primaprod.master_sumber_referensi where tipe_ref = \"'+t+'\"')\n"
      ]
    },
    {
      "cell_type": "code",
      "execution_count": null,
      "metadata": {
        "id": "Z3fIed2NW6ME",
        "scrolled": true
      },
      "outputs": [],
      "source": [
        "def exc_rsp(tF,tT,kP = '',another = ''):\n",
        "  cond = ' 1=1 ' if kP == '' else ' kode_poli = \"'+kP+'\" '\n",
        "  cond += ' AND 1=1 ' if another == '' else ' AND '+another+' '\n",
        "  rw = exec_sql('SELECT sum(harga+uang_tusla) H\\\n",
        "  , group_concat(keterangan_json separator \"++\") K\\\n",
        "  , `apotek_resep_pasien`.`no_resep`, \\\n",
        "  concat(\"[\",apotek_resep_pasien.no_rm,\"] \",nama_pelanggan) pelanggan\\\n",
        "  ,tgl_resep_created\\\n",
        "  ,apotek_resep_pasien.detail_reg\\\n",
        "  , group_concat(DISTINCT apotek_resep_pasien_detail.user separator \"++\") U, id_ruang, concat(instalasi_id, \".\", id_smf) pl, \\\n",
        "  date_format(tgl_resep_created, \"%y%m%d\") T, apotek_resep_pasien.id as id, apotek_resep_pasien.* \\\n",
        "FROM primaprod.apotek_resep_pasien \\\n",
        "LEFT JOIN primaprod.`mastercr_no_kamar` ON `mastercr_no_kamar`.`id`=`id_no_kamar`  \\\n",
        "LEFT JOIN primaprod.`poli_kunjungan_pasien` ON `poli_kunjungan_pasien`.`id` = `detail_reg`   \\\n",
        "INNER JOIN primaprod.`apotek_resep_pasien_detail` ON `apotek_resep_pasien`.`no_resep` = `apotek_resep_pasien_detail`.`no_resep`    \\\n",
        "WHERE tgl_resep_created between \"'+tF+' 00:00:00\" AND \"'+tT+' 23:59:59\" AND apotek_resep_pasien.no_resep not like \"%RE%\"   \\\n",
        "AND '+cond+' \\\n",
        "GROUP BY `apotek_resep_pasien`.`no_resep`   \\\n",
        "ORDER BY pelanggan,`apotek_resep_pasien`.`tgl_resep_created`')\n",
        "  lER = []\n",
        "  for x in rw:\n",
        "    js = dict()\n",
        "    arr = x[1].split(\"++\")\n",
        "    js = json.loads(arr[0])\n",
        "    nr = []\n",
        "    tx = ''\n",
        "    if 'eresep_ref' in js:\n",
        "      tx = js['eresep_ref']['no_eresep']\n",
        "    else:\n",
        "      tx = \"tanpa eresep\"\n",
        "    nr = [tx,x[2],x[3],x[4].strftime(\"%d/%m %H:%M\"),x[5]] \n",
        "    lER.append(nr)\n",
        "  return lER\n",
        "\n",
        "def exc_ersp(lER):\n",
        "  rw = exec_sql('select kp,count(kp) from (SELECT if(kode_poli=\"300\",concat(\"k\",id_kamar),kode_poli) kp \\\n",
        "FROM primaprod.eprescription_resep_pasien \\\n",
        "WHERE no_resep in (\"'+'\",\"'.join(lER)+'\")) a group by kp')\n",
        "  return rw\n",
        "\n",
        "def identify_er_kemo(rm,tglODC,totalHariSebelum = 7):\n",
        "  since = datetime.strptime(tglODC, \"%Y-%m-%d\") - timedelta(days = totalHariSebelum)\n",
        "  rw = exec_sql(\"select tanggal,pendaftaran.no_reg,nama_poli,group_concat(concat(no_resep,'>',eprescription_resep_pasien.status)) \\\n",
        "  ,poli_kunjungan_pasien.id \\\n",
        "  from primaprod.poli_kunjungan_pasien inner join primaprod.pendaftaran using (no_reg) \\\n",
        "inner join primaprod.master_poli on concat(master_poli.id_instalasi,'.',id_poli) = concat(instalasi_id,'.',id_smf) \\\n",
        "inner join primaprod.eprescription_resep_pasien on detail_reg = poli_kunjungan_pasien.id \\\n",
        "where pendaftaran.no_rm = '\"+rm+\"' and tanggal between '\"+since.strftime(\"%Y-%m-%d\")+\" 00:00:00' and '\"+tglODC+\" 00:00:00' \\\n",
        "group by detail_reg order by tanggal desc\")\n",
        "  return rw\n",
        "\n"
      ]
    },
    {
      "cell_type": "code",
      "execution_count": null,
      "metadata": {
        "id": "w7QNluD2EX58"
      },
      "outputs": [],
      "source": [
        "cb = exc_rsp('2022-01-04','2022-01-04','150','')\n",
        "cb = pd.DataFrame(cb, columns = ['nomor eresep ','nomor resep','identitas pemilik resep','waktu','detailreg'])\n",
        "cb"
      ]
    },
    {
      "cell_type": "code",
      "source": [
        "\n",
        "erInKunj = identify_er_kemo('2570290','2022-01-04',100)\n",
        "dfErInKunj = pd.DataFrame(erInKunj, columns =['tgl kunjungan','no_reg','poli','eresep','detailreg'])\n",
        "  \n",
        "dfErInKunj"
      ],
      "metadata": {
        "id": "3XYJDvf-6tzd"
      },
      "execution_count": null,
      "outputs": []
    },
    {
      "cell_type": "code",
      "source": [
        ""
      ],
      "metadata": {
        "id": "2qCMxspOo-lF"
      },
      "execution_count": null,
      "outputs": []
    }
  ],
  "metadata": {
    "colab": {
      "name": "resep - eresep notebook",
      "provenance": []
    },
    "kernelspec": {
      "display_name": "Python 3",
      "language": "python",
      "name": "python3"
    },
    "language_info": {
      "codemirror_mode": {
        "name": "ipython",
        "version": 3
      },
      "file_extension": ".py",
      "mimetype": "text/x-python",
      "name": "python",
      "nbconvert_exporter": "python",
      "pygments_lexer": "ipython3",
      "version": "3.6.5"
    }
  },
  "nbformat": 4,
  "nbformat_minor": 0
}