{
 "cells": [
  {
   "cell_type": "code",
   "execution_count": 1,
   "metadata": {},
   "outputs": [
    {
     "name": "stdout",
     "output_type": "stream",
     "text": [
      "Requirement already satisfied: mysql-connector-python in c:\\programdata\\anaconda3\\lib\\site-packages (8.0.29)\n",
      "Requirement already satisfied: protobuf>=3.0.0 in c:\\programdata\\anaconda3\\lib\\site-packages (from mysql-connector-python) (3.19.4)\n"
     ]
    },
    {
     "name": "stderr",
     "output_type": "stream",
     "text": [
      "uvicorn 0.16.0 requires asgiref>=3.4.0, which is not installed.\n",
      "uvicorn 0.16.0 requires h11>=0.8, which is not installed.\n",
      "pydantic 1.9.1 requires dataclasses>=0.6; python_version < \"3.7\", which is not installed.\n",
      "distributed 1.21.8 requires msgpack, which is not installed.\n",
      "uvicorn 0.16.0 has requirement click>=7.0, but you'll have click 6.7 which is incompatible.\n",
      "You are using pip version 10.0.1, however version 21.3.1 is available.\n",
      "You should consider upgrading via the 'python -m pip install --upgrade pip' command.\n"
     ]
    }
   ],
   "source": [
    "! pip install mysql-connector-python\n",
    "import mysql.connector\n",
    "import pandas as pd\n",
    "import json"
   ]
  },
  {
   "cell_type": "code",
   "execution_count": 2,
   "metadata": {},
   "outputs": [],
   "source": [
    "con = open('ref_con/db-prima', 'r').read().splitlines()\n",
    "how = input('how to connect(local/public):')\n",
    "\n",
    "mydb = mysql.connector.connect(\n",
    "  host=con[0] if how == 'public' else con[1],\n",
    "  user=con[2],\n",
    "  password=con[3],\n",
    "  database=con[4],\n",
    "  autocommit=True\n",
    ")\n",
    "\n",
    "mycursor = mydb.cursor(dictionary=True)"
   ]
  },
  {
   "cell_type": "code",
   "execution_count": 5,
   "metadata": {},
   "outputs": [],
   "source": [
    "\n",
    "\n",
    "def exec_to_result(q):\n",
    "  mycursor.execute(q)\n",
    "  return mycursor.fetchall()\n",
    "\n",
    "def get_stock_result(code):\n",
    "    return exec_to_result(\"select stok_fisik,right(no_so,3) depo \\\n",
    "from inventori_so_detail \\\n",
    "where no_so like 'so2112%' and kode_obat = '\"+code+\"' and stok_fisik > 0 order by stok_fisik desc\")\n",
    "\n",
    "def calc_FIFO_return_list(df,kode):\n",
    "    rekapBarangKeluar = 0 if (len(get_BK(df,kode)) == 0) else get_BK(df,kode)[kode]\n",
    "    rtrn = qty = 0\n",
    "    for i, r in get_BKM(df,kode).iterrows():\n",
    "        if (rekapBarangKeluar >= r['volAbs']):\n",
    "            rekapBarangKeluar -= r['volAbs']\n",
    "        else:\n",
    "            show = r['volAbs'] - rekapBarangKeluar\n",
    "            rekapBarangKeluar = 0\n",
    "            print(i, r['kodeTrans'], show, r[13])\n",
    "            rtrn += (show * r[13])\n",
    "            qty += 0\n",
    "    print(rtrn)\n",
    "    return\n",
    "\n",
    "\n"
   ]
  },
  {
   "cell_type": "code",
   "execution_count": 20,
   "metadata": {},
   "outputs": [
    {
     "data": {
      "text/plain": [
       "[{'stok_fisik': Decimal('300.00'), 'depo': '208', 'target': Decimal('245.00')},\n",
       " {'stok_fisik': Decimal('202.00'), 'depo': '206', 'target': Decimal('202.00')},\n",
       " {'stok_fisik': Decimal('24.00'), 'depo': '204', 'target': Decimal('24.00')},\n",
       " {'stok_fisik': Decimal('1.00'), 'depo': '126', 'target': Decimal('1.00')}]"
      ]
     },
     "execution_count": 20,
     "metadata": {},
     "output_type": "execute_result"
    }
   ],
   "source": [
    "h = get_stock_result('240411')\n",
    "t = 55\n",
    "for i in h:\n",
    "    if (t >= i['stok_fisik']):\n",
    "        t -= i['stok_fisik']\n",
    "        i['target'] = 0\n",
    "    else:\n",
    "        i['target'] = i['stok_fisik'] - t\n",
    "        t = 0\n",
    "    \n",
    "    \n",
    "    \n",
    "h"
   ]
  },
  {
   "cell_type": "code",
   "execution_count": 9,
   "metadata": {},
   "outputs": [
    {
     "ename": "NameError",
     "evalue": "name 'h' is not defined",
     "output_type": "error",
     "traceback": [
      "\u001b[1;31m---------------------------------------------------------------------------\u001b[0m",
      "\u001b[1;31mNameError\u001b[0m                                 Traceback (most recent call last)",
      "\u001b[1;32m<ipython-input-9-9d2b0c61049a>\u001b[0m in \u001b[0;36m<module>\u001b[1;34m()\u001b[0m\n\u001b[1;32m----> 1\u001b[1;33m \u001b[1;32mfor\u001b[0m \u001b[0mi\u001b[0m \u001b[1;32min\u001b[0m \u001b[0mh\u001b[0m\u001b[1;33m:\u001b[0m\u001b[1;33m\u001b[0m\u001b[0m\n\u001b[0m\u001b[0;32m      2\u001b[0m     \u001b[0mprint\u001b[0m\u001b[1;33m(\u001b[0m\u001b[0mi\u001b[0m\u001b[1;33m[\u001b[0m\u001b[1;34m'stok_fisik'\u001b[0m\u001b[1;33m]\u001b[0m\u001b[1;33m)\u001b[0m\u001b[1;33m\u001b[0m\u001b[0m\n",
      "\u001b[1;31mNameError\u001b[0m: name 'h' is not defined"
     ]
    }
   ],
   "source": []
  },
  {
   "cell_type": "code",
   "execution_count": null,
   "metadata": {},
   "outputs": [],
   "source": []
  }
 ],
 "metadata": {
  "kernelspec": {
   "display_name": "Python 3",
   "language": "python",
   "name": "python3"
  },
  "language_info": {
   "codemirror_mode": {
    "name": "ipython",
    "version": 3
   },
   "file_extension": ".py",
   "mimetype": "text/x-python",
   "name": "python",
   "nbconvert_exporter": "python",
   "pygments_lexer": "ipython3",
   "version": "3.6.5"
  }
 },
 "nbformat": 4,
 "nbformat_minor": 2
}
