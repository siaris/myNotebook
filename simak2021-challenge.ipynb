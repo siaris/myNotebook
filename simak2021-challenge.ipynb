{
 "cells": [
  {
   "cell_type": "code",
   "execution_count": 1,
   "metadata": {},
   "outputs": [
    {
     "name": "stdout",
     "output_type": "stream",
     "text": [
      "Requirement already satisfied: mysql-connector-python in c:\\users\\m_4ris_5t\\appdata\\local\\programs\\python\\python36-32\\lib\\site-packages (8.0.29)\n",
      "Requirement already satisfied: protobuf>=3.0.0 in c:\\users\\m_4ris_5t\\appdata\\local\\programs\\python\\python36-32\\lib\\site-packages (from mysql-connector-python) (3.19.4)\n"
     ]
    }
   ],
   "source": [
    "! pip install mysql-connector-python\n",
    "import mysql.connector\n",
    "import pandas as pd\n",
    "import json"
   ]
  },
  {
   "cell_type": "code",
   "execution_count": 2,
   "metadata": {},
   "outputs": [],
   "source": [
    "con = open('ref_con/db-prima', 'r').read().splitlines()\n",
    "how = input('how to connect(local/public):')\n",
    "\n",
    "mydb = mysql.connector.connect(\n",
    "  host=con[0] if how == 'public' else con[1],\n",
    "  user=con[2],\n",
    "  password=con[3],\n",
    "  database=con[4],\n",
    "  autocommit=True\n",
    ")\n",
    "\n",
    "mycursor = mydb.cursor(dictionary=True)"
   ]
  },
  {
   "cell_type": "code",
   "execution_count": 3,
   "metadata": {},
   "outputs": [],
   "source": [
    "def exec_to_result(q):\n",
    "  mycursor.execute(q)\n",
    "  return mycursor.fetchall()\n",
    "\n",
    "def get_stock_result(code):\n",
    "    return exec_to_result(\"select stok_fisik,right(no_so,3) depo, namaDepo \\\n",
    "from inventori_so_detail inner join masterf_depo on right(no_so,3) = masterf_depo.id \\\n",
    "where no_so like 'so2112%' and kode_obat = '\"+code+\"' and stok_fisik > 0 order by stok_fisik desc\")\n",
    "    \n",
    "def get_mutasi(kode,sel):\n",
    "  h = get_stock_result(kode)\n",
    "  T = 'P02' if sel < 0 else 'P01'\n",
    "  t = abs(sel)\n",
    "  if(sel < 0):\n",
    "    for i in h:\n",
    "      if (t >= i['stok_fisik']):\n",
    "          t -= i['stok_fisik']\n",
    "          i['target'] = 0\n",
    "          i['trans'] = T\n",
    "      else:\n",
    "          i['target'] = i['stok_fisik'] - t\n",
    "          t = 0\n",
    "          i['trans'] = T\n",
    "  else:\n",
    "    return\n",
    "  D = []\n",
    "  for i in h:\n",
    "    if i['stok_fisik'] != i['target']:\n",
    "      D.append({'depo':i['depo'],'old_stok':i['stok_fisik'],'new_stok':i['target'],'mutasi':abs(i['target'] - i['stok_fisik']),'trans':T,\\\n",
    "                'kode':'|'+kode+'|','namaDepo':i['namaDepo']})\n",
    "  return D"
   ]
  },
  {
   "cell_type": "code",
   "execution_count": 17,
   "metadata": {},
   "outputs": [
    {
     "data": {
      "text/html": [
       "<div>\n",
       "<style scoped>\n",
       "    .dataframe tbody tr th:only-of-type {\n",
       "        vertical-align: middle;\n",
       "    }\n",
       "\n",
       "    .dataframe tbody tr th {\n",
       "        vertical-align: top;\n",
       "    }\n",
       "\n",
       "    .dataframe thead th {\n",
       "        text-align: right;\n",
       "    }\n",
       "</style>\n",
       "<table border=\"1\" class=\"dataframe\">\n",
       "  <thead>\n",
       "    <tr style=\"text-align: right;\">\n",
       "      <th></th>\n",
       "    </tr>\n",
       "  </thead>\n",
       "  <tbody>\n",
       "  </tbody>\n",
       "</table>\n",
       "</div>"
      ],
      "text/plain": [
       "Empty DataFrame\n",
       "Columns: []\n",
       "Index: []"
      ]
     },
     "execution_count": 17,
     "metadata": {},
     "output_type": "execute_result"
    }
   ],
   "source": [
    "import decimal\n",
    "R = []\n",
    "for i in range(2334,2334):\n",
    "  N = get_mutasi(kList[i],decimal.Decimal(sList[i]))\n",
    "  if N:\n",
    "   R = R + N\n",
    "RDF = pd.DataFrame(R)\n",
    "RDF"
   ]
  },
  {
   "cell_type": "code",
   "execution_count": 15,
   "metadata": {},
   "outputs": [],
   "source": [
    "RDF.to_csv(\"RDF4.csv\")"
   ]
  },
  {
   "cell_type": "code",
   "execution_count": 19,
   "metadata": {},
   "outputs": [
    {
     "name": "stdout",
     "output_type": "stream",
     "text": [
      "020700653\n"
     ]
    }
   ],
   "source": [
    "for i in range(0,2333):\n",
    "  N = get_mutasi(kList[i],decimal.Decimal(sList[i]))\n",
    "  if not N:\n",
    "      print(kList[i])\n"
   ]
  },
  {
   "cell_type": "code",
   "execution_count": null,
   "metadata": {},
   "outputs": [],
   "source": []
  }
 ],
 "metadata": {
  "kernelspec": {
   "display_name": "Python 3",
   "language": "python",
   "name": "python3"
  },
  "language_info": {
   "codemirror_mode": {
    "name": "ipython",
    "version": 3
   },
   "file_extension": ".py",
   "mimetype": "text/x-python",
   "name": "python",
   "nbconvert_exporter": "python",
   "pygments_lexer": "ipython3",
   "version": "3.6.5"
  }
 },
 "nbformat": 4,
 "nbformat_minor": 2
}
