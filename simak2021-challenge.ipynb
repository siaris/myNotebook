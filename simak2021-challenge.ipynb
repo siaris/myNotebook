{
 "cells": [
  {
   "cell_type": "code",
   "execution_count": 1,
   "metadata": {},
   "outputs": [
    {
     "name": "stdout",
     "output_type": "stream",
     "text": [
      "Requirement already satisfied: mysql-connector-python in c:\\programdata\\anaconda3\\lib\\site-packages (8.0.29)\n",
      "Requirement already satisfied: protobuf>=3.0.0 in c:\\programdata\\anaconda3\\lib\\site-packages (from mysql-connector-python) (3.19.4)\n"
     ]
    },
    {
     "name": "stderr",
     "output_type": "stream",
     "text": [
      "uvicorn 0.16.0 requires asgiref>=3.4.0, which is not installed.\n",
      "uvicorn 0.16.0 requires h11>=0.8, which is not installed.\n",
      "pydantic 1.9.1 requires dataclasses>=0.6; python_version < \"3.7\", which is not installed.\n",
      "distributed 1.21.8 requires msgpack, which is not installed.\n",
      "uvicorn 0.16.0 has requirement click>=7.0, but you'll have click 6.7 which is incompatible.\n",
      "You are using pip version 10.0.1, however version 21.3.1 is available.\n",
      "You should consider upgrading via the 'python -m pip install --upgrade pip' command.\n"
     ]
    }
   ],
   "source": [
    "! pip install mysql-connector-python\n",
    "import mysql.connector\n",
    "import pandas as pd\n",
    "import json"
   ]
  },
  {
   "cell_type": "code",
   "execution_count": 2,
   "metadata": {},
   "outputs": [],
   "source": [
    "con = open('ref_con/db-prima', 'r').read().splitlines()\n",
    "how = input('how to connect(local/public):')\n",
    "\n",
    "mydb = mysql.connector.connect(\n",
    "  host=con[0] if how == 'public' else con[1],\n",
    "  user=con[2],\n",
    "  password=con[3],\n",
    "  database=con[4],\n",
    "  autocommit=True\n",
    ")\n",
    "\n",
    "mycursor = mydb.cursor(dictionary=True)"
   ]
  },
  {
   "cell_type": "code",
   "execution_count": 3,
   "metadata": {},
   "outputs": [],
   "source": [
    "import re\n",
    "from functools import partial\n",
    "\n",
    "def exec_q_row(qT):\n",
    "  mycursor.execute(qT)\n",
    "  myresult = mycursor.fetchall()\n",
    "  jD = []\n",
    "  for x in myresult:\n",
    "    jD.append(x['notes_json'])\n",
    "  return jD\n",
    "\n",
    "def get_text(list_json,key = ['notesmedis','Tx']):\n",
    "  arN = []\n",
    "  for x in notes_medis:\n",
    "      a = json.loads(x)\n",
    "      for y in a[key[0]]:\n",
    "        arN.append(y[key[1]])\n",
    "          # if re.search(r'^\\[', y[key[1]]):\n",
    "            # t = y[key[1]]\n",
    "            # t = t[t.find(\"[\")+1:t.find(\"]\")]\n",
    "            # arN.append(t)\n",
    "  return arN\n",
    "\n",
    "def get_text_v(list_json):\n",
    " lst = get_text(list_json)\n",
    " rtr = []\n",
    " for x in lst:\n",
    "   if re.search(r'^\\[', x):\n",
    "     t = re.search('\\[([^]]+)', x).group(1)\n",
    "     if(t not in rtr and t.isnumeric() == False): rtr.append(t)\n",
    " return rtr\n"
   ]
  },
  {
   "cell_type": "code",
   "execution_count": 6,
   "metadata": {},
   "outputs": [
    {
     "data": {
      "text/html": [
       "<div>\n",
       "<style scoped>\n",
       "    .dataframe tbody tr th:only-of-type {\n",
       "        vertical-align: middle;\n",
       "    }\n",
       "\n",
       "    .dataframe tbody tr th {\n",
       "        vertical-align: top;\n",
       "    }\n",
       "\n",
       "    .dataframe thead th {\n",
       "        text-align: right;\n",
       "    }\n",
       "</style>\n",
       "<table border=\"1\" class=\"dataframe\">\n",
       "  <thead>\n",
       "    <tr style=\"text-align: right;\">\n",
       "      <th></th>\n",
       "      <th>0</th>\n",
       "    </tr>\n",
       "  </thead>\n",
       "  <tbody>\n",
       "    <tr>\n",
       "      <th>0</th>\n",
       "      <td>KTP</td>\n",
       "    </tr>\n",
       "    <tr>\n",
       "      <th>1</th>\n",
       "      <td>KARTU BPJS</td>\n",
       "    </tr>\n",
       "    <tr>\n",
       "      <th>2</th>\n",
       "      <td>KK</td>\n",
       "    </tr>\n",
       "    <tr>\n",
       "      <th>3</th>\n",
       "      <td>CATATAN_TBAK</td>\n",
       "    </tr>\n",
       "    <tr>\n",
       "      <th>4</th>\n",
       "      <td>GENERAL CONSENT</td>\n",
       "    </tr>\n",
       "    <tr>\n",
       "      <th>5</th>\n",
       "      <td>SURAT RUJUKAN</td>\n",
       "    </tr>\n",
       "    <tr>\n",
       "      <th>6</th>\n",
       "      <td>HASIL SWAB DARI LUAR</td>\n",
       "    </tr>\n",
       "    <tr>\n",
       "      <th>7</th>\n",
       "      <td>MASALAH_TINDAKAN_ICU</td>\n",
       "    </tr>\n",
       "    <tr>\n",
       "      <th>8</th>\n",
       "      <td>INFORMED CONSENT</td>\n",
       "    </tr>\n",
       "    <tr>\n",
       "      <th>9</th>\n",
       "      <td>LAIN-LAIN</td>\n",
       "    </tr>\n",
       "    <tr>\n",
       "      <th>10</th>\n",
       "      <td>EDUKASI PASIEN</td>\n",
       "    </tr>\n",
       "    <tr>\n",
       "      <th>11</th>\n",
       "      <td>gbr:hasil-audiogram</td>\n",
       "    </tr>\n",
       "  </tbody>\n",
       "</table>\n",
       "</div>"
      ],
      "text/plain": [
       "                       0\n",
       "0                    KTP\n",
       "1             KARTU BPJS\n",
       "2                     KK\n",
       "3           CATATAN_TBAK\n",
       "4        GENERAL CONSENT\n",
       "5          SURAT RUJUKAN\n",
       "6   HASIL SWAB DARI LUAR\n",
       "7   MASALAH_TINDAKAN_ICU\n",
       "8       INFORMED CONSENT\n",
       "9              LAIN-LAIN\n",
       "10        EDUKASI PASIEN\n",
       "11   gbr:hasil-audiogram"
      ]
     },
     "execution_count": 6,
     "metadata": {},
     "output_type": "execute_result"
    }
   ],
   "source": [
    "notes_medis = exec_q_row(\"select notes_json from primaprod.mr_notes where notes_json like '%notesmedis%'\")\n",
    "\n",
    "DF_notes_medis = pd.DataFrame(get_text_v(notes_medis))\n",
    "DF_notes_medis"
   ]
  },
  {
   "cell_type": "code",
   "execution_count": null,
   "metadata": {},
   "outputs": [],
   "source": []
  }
 ],
 "metadata": {
  "kernelspec": {
   "display_name": "Python 3",
   "language": "python",
   "name": "python3"
  },
  "language_info": {
   "codemirror_mode": {
    "name": "ipython",
    "version": 3
   },
   "file_extension": ".py",
   "mimetype": "text/x-python",
   "name": "python",
   "nbconvert_exporter": "python",
   "pygments_lexer": "ipython3",
   "version": "3.6.5"
  }
 },
 "nbformat": 4,
 "nbformat_minor": 2
}
