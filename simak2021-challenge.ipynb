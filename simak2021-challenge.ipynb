{
 "cells": [
  {
   "cell_type": "code",
   "execution_count": null,
   "metadata": {},
   "outputs": [],
   "source": [
    "! pip install mysql-connector-python\n",
    "import mysql.connector\n",
    "import pandas as pd\n",
    "import json\n",
    "import requests\n",
    "import calendar"
   ]
  },
  {
   "cell_type": "code",
   "execution_count": null,
   "metadata": {},
   "outputs": [],
   "source": [
    "con = open('ref_con/db-prima', 'r').read().splitlines()\n",
    "how = input('how to connect(local/public):')\n",
    "\n",
    "mydb = mysql.connector.connect(\n",
    "  host=con[0] if how == 'public' else con[1],\n",
    "  user=con[2],\n",
    "  password=con[3],\n",
    "  database=con[4],\n",
    "  autocommit=True\n",
    ")\n",
    "\n",
    "mycursor = mydb.cursor(dictionary=True)"
   ]
  },
  {
   "cell_type": "code",
   "execution_count": null,
   "metadata": {},
   "outputs": [],
   "source": [
    "def exec_to_result(q):\n",
    "  mycursor.execute(q)\n",
    "  return mycursor.fetchall()\n",
    "\n",
    "def get_stock_result(code,dp=''):\n",
    "    return exec_to_result(\"select stok_fisik,right(no_so,3) depo, namaDepo \\\n",
    "from inventori_so_detail inner join masterf_depo on right(no_so,3) = masterf_depo.id \\\n",
    "where no_so like 'so2112\"+dp+\"%' and kode_obat = '\"+code+\"' and stok_fisik > 0 order by stok_fisik desc\")\n",
    "    \n",
    "def get_mutasi(kode,sel):\n",
    "  h = get_stock_result(kode)\n",
    "  T = 'P02' if sel < 0 else 'P01'\n",
    "  t = abs(sel)\n",
    "  if(sel < 0):\n",
    "    for i in h:\n",
    "      if (t >= i['stok_fisik']):\n",
    "          t -= i['stok_fisik']\n",
    "          i['target'] = 0\n",
    "          i['trans'] = T\n",
    "      else:\n",
    "          i['target'] = i['stok_fisik'] - t\n",
    "          t = 0\n",
    "          i['trans'] = T\n",
    "  else:\n",
    "    s208 = get_stock_result(kode,'208')\n",
    "    if(s208 == []): stok = 0\n",
    "    else: stok = s208[0]['stok_fisik']\n",
    "    return [{'depo':'208','old_stok':stok,'new_stok':(stok+t),'mutasi':t,'trans':T,\\\n",
    "                'kode':'|'+kode+'|','namaDepo':'INSTALASI FARMASI (LOGISTIK FARMASI)'}]\n",
    "  D = []\n",
    "  for i in h:\n",
    "    if i['stok_fisik'] != i['target']:\n",
    "      D.append({'depo':i['depo'],'old_stok':i['stok_fisik'],'new_stok':i['target'],'mutasi':abs(i['target'] - i['stok_fisik']),'trans':T,\\\n",
    "                'kode':'|'+kode+'|','namaDepo':i['namaDepo']})\n",
    "  return D\n",
    "\n",
    "def do_request_transaksi(f,d,so):\n",
    "  url = 'http://sim.rs/simrs/inventori/laporan_inventori/pub_txt_logfar/'\n",
    "  myobj = {'tgl_dari': f,'tgl_sampai': d,'kode_so': so}\n",
    "\n",
    "  x = requests.post(url, data = myobj)\n",
    "\n",
    "  return x.json()\n",
    "\n",
    "def get_ket_bast(l):\n",
    "  url = 'http://sim.rs/devapi/rsp/invpenerimaanfarmasi/penerimaan_bast_bku/'\n",
    "  myobj = {'po': l}\n",
    "\n",
    "  x = requests.post(url, data = json.dumps(myobj),headers={'Content-Type': 'application/json', 'Accept':'application/json'})\n",
    "  \n",
    "  return x.json()\n",
    "\n",
    "def get_list_simak_date(y,lim_range = 13):\n",
    "    r = []\n",
    "    for i in range(1,lim_range,1):\n",
    "        e = calendar.monthrange(y, i)[1]\n",
    "        m = str(i).zfill(2)\n",
    "        r.append(['01-'+m+'-'+str(y)+' 00:00',str(e)+'-'+m+'-'+str(y)+' 23:59',str(y)[2]+str(y)[3]+m])\n",
    "    return r\n",
    "\n",
    "def komparasiDenganDesc(D1,D2,r=0):\n",
    "    return pd.merge(D1,D2,on=r,how='outer',indicator=True)\n",
    "\n",
    "  "
   ]
  },
  {
   "cell_type": "code",
   "execution_count": null,
   "metadata": {},
   "outputs": [],
   "source": [
    "import decimal\n",
    "R = []\n",
    "kList = open('ref_con/kd.txt', 'r').read().splitlines()\n",
    "sList = open('ref_con/nm.txt', 'r').read().splitlines()\n",
    "for i, x in enumerate(kList):\n",
    "  N = get_mutasi(kList[i],decimal.Decimal(sList[i]))\n",
    "  if N:\n",
    "   R = R + N\n",
    "RDF = pd.DataFrame(R)\n",
    "RDF"
   ]
  },
  {
   "cell_type": "code",
   "execution_count": null,
   "metadata": {},
   "outputs": [],
   "source": [
    "RDF.loc[:,'insert adj'] = \"\""
   ]
  },
  {
   "cell_type": "code",
   "execution_count": null,
   "metadata": {},
   "outputs": [],
   "source": [
    "RDF"
   ]
  },
  {
   "cell_type": "code",
   "execution_count": null,
   "metadata": {},
   "outputs": [],
   "source": [
    "RDF.to_csv(\"RDF-ALL.csv\")"
   ]
  },
  {
   "cell_type": "code",
   "execution_count": null,
   "metadata": {},
   "outputs": [],
   "source": [
    "for i in range(0,2333):\n",
    "  N = get_mutasi(kList[i],decimal.Decimal(sList[i]))\n",
    "  if not N:\n",
    "      print(kList[i])\n"
   ]
  },
  {
   "cell_type": "markdown",
   "metadata": {},
   "source": [
    "bast dan simak start here !"
   ]
  },
  {
   "cell_type": "code",
   "execution_count": null,
   "metadata": {},
   "outputs": [],
   "source": [
    "arr = []\n",
    "for i in get_list_simak_date(2022,4):\n",
    "    arr += do_request_transaksi(i[0],i[1],i[2])['d']\n",
    "dfS = pd.DataFrame(arr)\n"
   ]
  },
  {
   "cell_type": "code",
   "execution_count": null,
   "metadata": {},
   "outputs": [],
   "source": [
    "\n",
    "listPO = []\n",
    "for i in dfS[[11]][(dfS[12] == '|M02|')&(dfS[11].str.contains('PPO'))].drop_duplicates().groupby(by=[11]).count().reset_index().values:\n",
    "    listPO.append(i[0].replace('|',''))\n",
    "df_po_bast = pd.DataFrame(get_ket_bast(listPO))\n",
    "df_po_bast.tail()\n"
   ]
  },
  {
   "cell_type": "code",
   "execution_count": null,
   "metadata": {},
   "outputs": [],
   "source": [
    "dfM = pd.merge(dfS,df_po_bast,how='left',left_on=[11],right_on=['lPo'])\n",
    "dfM.size"
   ]
  }
 ],
 "metadata": {
  "kernelspec": {
   "display_name": "Python 3.6.5 ('base')",
   "language": "python",
   "name": "python3"
  },
  "language_info": {
   "codemirror_mode": {
    "name": "ipython",
    "version": 3
   },
   "file_extension": ".py",
   "mimetype": "text/x-python",
   "name": "python",
   "nbconvert_exporter": "python",
   "pygments_lexer": "ipython3",
   "version": "3.6.5"
  },
  "vscode": {
   "interpreter": {
    "hash": "ab967c7b563aa7215ccc1c730891baf89f5caa5f60921a2bf50680738a282034"
   }
  }
 },
 "nbformat": 4,
 "nbformat_minor": 2
}
